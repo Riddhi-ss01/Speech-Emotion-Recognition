{
  "nbformat": 4,
  "nbformat_minor": 0,
  "metadata": {
    "colab": {
      "provenance": []
    },
    "kernelspec": {
      "name": "python3",
      "display_name": "Python 3"
    },
    "language_info": {
      "name": "python"
    }
  },
  "cells": [
    {
      "cell_type": "code",
      "execution_count": 1,
      "metadata": {
        "colab": {
          "base_uri": "https://localhost:8080/"
        },
        "id": "YwX1K_urJ-Ke",
        "outputId": "e6577ea2-63f7-442e-b992-5d137a46a62a"
      },
      "outputs": [
        {
          "output_type": "stream",
          "name": "stdout",
          "text": [
            "Mounted at /content/drive\n"
          ]
        }
      ],
      "source": [
        "from google.colab import drive\n",
        "drive.mount('/content/drive')"
      ]
    },
    {
      "cell_type": "code",
      "source": [
        "import os\n",
        "import numpy as np\n",
        "import librosa\n",
        "import matplotlib.pyplot as plt\n",
        "import seaborn as sns\n",
        "from sklearn.preprocessing import MinMaxScaler, LabelEncoder, StandardScaler\n",
        "from sklearn.decomposition import PCA\n",
        "from sklearn.metrics import classification_report, confusion_matrix, accuracy_score, f1_score\n",
        "from sklearn.model_selection import train_test_split\n",
        "from tensorflow.keras.models import Sequential\n",
        "from tensorflow.keras.layers import Dense, Dropout, BatchNormalization\n",
        "from tensorflow.keras.utils import to_categorical\n",
        "from tensorflow.keras.regularizers import l2, l1\n",
        "from tensorflow.keras.callbacks import EarlyStopping\n",
        "import pandas as pd"
      ],
      "metadata": {
        "id": "jaGFL8AdKAoo"
      },
      "execution_count": 2,
      "outputs": []
    },
    {
      "cell_type": "code",
      "source": [
        "\n",
        "def extract_deep_features(file_path, duration=3, sr=22050, max_len=130):\n",
        "    try:\n",
        "        y, sr = librosa.load(file_path, sr=sr)\n",
        "        desired_length = duration * sr\n",
        "        if len(y) < desired_length:\n",
        "            y = np.pad(y, (0, desired_length - len(y)))\n",
        "        else:\n",
        "            y = y[:desired_length]\n",
        "\n",
        "        # Base features\n",
        "        mfcc = librosa.feature.mfcc(y=y, sr=sr, n_mfcc=40)              # (40, T)\n",
        "        delta = librosa.feature.delta(mfcc)\n",
        "        delta2 = librosa.feature.delta(mfcc, order=2)\n",
        "        chroma = librosa.feature.chroma_stft(y=y, sr=sr)\n",
        "        mel = librosa.feature.melspectrogram(y=y, sr=sr, n_mels=40)\n",
        "        contrast = librosa.feature.spectral_contrast(y=y, sr=sr)\n",
        "        tonnetz = librosa.feature.tonnetz(y=librosa.effects.harmonic(y), sr=sr)\n",
        "        zcr = librosa.feature.zero_crossing_rate(y)\n",
        "        rms = librosa.feature.rms(y=y)\n",
        "\n",
        "        # Stack all features along axis=0\n",
        "        all_feat = np.vstack([\n",
        "            mfcc, delta, delta2, chroma, mel, contrast, tonnetz, zcr, rms\n",
        "        ])  # shape: (n_features, T)\n",
        "\n",
        "        # Transpose to (T, features)\n",
        "        all_feat = all_feat.T  # shape: (T, n_features)\n",
        "\n",
        "        # Pad/truncate time axis to fixed length\n",
        "        if all_feat.shape[0] < max_len:\n",
        "            pad_width = max_len - all_feat.shape[0]\n",
        "            all_feat = np.pad(all_feat, ((0, pad_width), (0, 0)), mode='constant')\n",
        "        else:\n",
        "            all_feat = all_feat[:max_len, :]\n",
        "\n",
        "        return all_feat\n",
        "\n",
        "    except Exception as e:\n",
        "        print(f\"❌ Error in {file_path}: {e}\")\n",
        "        return None"
      ],
      "metadata": {
        "id": "Y5TtSejvKLlZ"
      },
      "execution_count": 3,
      "outputs": []
    },
    {
      "cell_type": "code",
      "source": [
        "from tqdm import tqdm\n",
        "\n",
        "data_path = '/content/drive/MyDrive/Audio_dataset'\n",
        "\n",
        "parent_folders = ['Audio_Speech_Actors_01-24', 'Audio_Song_Actors_01-24']\n",
        "\n",
        "# Emotion code map (adjust if needed)\n",
        "emotion_map = {\n",
        "    '01': 'neutral',\n",
        "    '02': 'calm',\n",
        "    '03': 'happy',\n",
        "    '04': 'sad',\n",
        "    '05': 'angry',\n",
        "    '06': 'fearful',\n",
        "    '07': 'disgust',\n",
        "    '08': 'surprised'\n",
        "}\n",
        "\n",
        "def get_emotion_from_filename(filename):\n",
        "    try:\n",
        "        code = filename.split(\"-\")[2]  # example: '03' for happy\n",
        "        return emotion_map.get(code)\n",
        "    except:\n",
        "        return None\n",
        "\n",
        "X, y = [], []\n",
        "modality_list = []  # Track speech/song\n",
        "emotion_list = []   # Track emotion for stratified split\n",
        "\n",
        "for parent in parent_folders:\n",
        "    modality = 'speech' if 'Speech' in parent else 'song'\n",
        "    parent_path = os.path.join(data_path, parent)\n",
        "\n",
        "    for actor_folder in tqdm(os.listdir(parent_path)):\n",
        "        actor_path = os.path.join(parent_path, actor_folder)\n",
        "\n",
        "        for file in os.listdir(actor_path):\n",
        "            file_path = os.path.join(actor_path, file)\n",
        "            emotion = get_emotion_from_filename(file)\n",
        "\n",
        "            if emotion is None:\n",
        "                continue\n",
        "\n",
        "            features = extract_deep_features(file_path)\n",
        "            if features is not None:\n",
        "                X.append(features)\n",
        "                y.append(emotion)\n",
        "                emotion_list.append(emotion)\n",
        "                modality_list.append(modality)\n",
        "\n",
        "X = np.array(X)\n",
        "y = np.array(y)\n",
        "print(\"✅ Done. Deep features shape:\", X.shape, \"Labels:\", len(y))"
      ],
      "metadata": {
        "id": "wk8C-Np1KPtG",
        "colab": {
          "base_uri": "https://localhost:8080/"
        },
        "outputId": "e5154aa3-9e16-47bc-adfb-5523e0ca97bb"
      },
      "execution_count": 4,
      "outputs": [
        {
          "output_type": "stream",
          "name": "stderr",
          "text": [
            "100%|██████████| 24/24 [19:03<00:00, 47.63s/it]\n",
            "100%|██████████| 24/24 [13:27<00:00, 33.64s/it]\n"
          ]
        },
        {
          "output_type": "stream",
          "name": "stdout",
          "text": [
            "✅ Done. Deep features shape: (2452, 130, 187) Labels: 2452\n"
          ]
        }
      ]
    },
    {
      "cell_type": "code",
      "source": [
        "np.unique(modality_list)"
      ],
      "metadata": {
        "colab": {
          "base_uri": "https://localhost:8080/"
        },
        "id": "xVToAxRL_G8_",
        "outputId": "4518ff2d-ad48-4451-9fc1-298a95808ad0"
      },
      "execution_count": 8,
      "outputs": [
        {
          "output_type": "execute_result",
          "data": {
            "text/plain": [
              "array(['song', 'speech'], dtype='<U6')"
            ]
          },
          "metadata": {},
          "execution_count": 8
        }
      ]
    },
    {
      "cell_type": "code",
      "source": [
        "# Label encoding and train/test split\n",
        "from sklearn.preprocessing import LabelEncoder\n",
        "from sklearn.model_selection import train_test_split\n",
        "\n",
        "stratify_labels = [f\"{e}_{m}\" for e, m in zip(emotion_list, modality_list)]\n",
        "\n",
        "# Encode emotion labels\n",
        "label_encoder = LabelEncoder()\n",
        "y_encoded = label_encoder.fit_transform(y)\n",
        "\n",
        "# Convert to arrays\n",
        "X = np.array(X)\n",
        "y_encoded = np.array(y_encoded)\n",
        "stratify_labels = np.array(stratify_labels)\n",
        "\n",
        "X_train, X_test, y_train, y_test = train_test_split(\n",
        "    X, y_encoded, test_size=0.2, stratify=stratify_labels, random_state=42\n",
        ")"
      ],
      "metadata": {
        "id": "jlr31iFsQAK9"
      },
      "execution_count": 9,
      "outputs": []
    },
    {
      "cell_type": "code",
      "source": [
        "from tensorflow.keras import layers, models, regularizers\n",
        "import tensorflow as tf\n",
        "\n",
        "def build_regularized_model(input_shape, num_classes):\n",
        "    inputs = layers.Input(shape=input_shape)\n",
        "\n",
        "    # 🔹 CNN Block with Dropout + L2 regularization\n",
        "    x = layers.Conv1D(\n",
        "        128, 5, padding='same', activation='relu',\n",
        "        kernel_regularizer=regularizers.l2(0.001)\n",
        "    )(inputs)\n",
        "    x = layers.BatchNormalization()(x)\n",
        "    x = layers.Dropout(0.3)(x)\n",
        "    x = layers.MaxPooling1D(2)(x)\n",
        "\n",
        "    # 🔹 BiLSTM with Dropout\n",
        "    x = layers.Bidirectional(\n",
        "        layers.LSTM(64, return_sequences=True, dropout=0.3, recurrent_dropout=0.3)\n",
        "    )(x)\n",
        "\n",
        "    # 🔹 Attention Mechanism\n",
        "    attention = layers.Dense(1, activation='tanh')(x)\n",
        "    attention = layers.Flatten()(attention)\n",
        "    attention = layers.Activation('softmax')(attention)\n",
        "    attention = layers.RepeatVector(128)(attention)\n",
        "    attention = layers.Permute([2, 1])(attention)\n",
        "    x = layers.multiply([x, attention])\n",
        "\n",
        "    # ⚠️ FIX: Add output_shape to Lambda\n",
        "    x = layers.Lambda(lambda z: tf.reduce_sum(z, axis=1), output_shape=(128,))(x)\n",
        "\n",
        "    # 🔹 Dense layers with regularization\n",
        "    x = layers.Dense(\n",
        "        64, activation='relu',\n",
        "        kernel_regularizer=regularizers.l2(0.001)\n",
        "    )(x)\n",
        "    x = layers.Dropout(0.5)(x)\n",
        "\n",
        "    outputs = layers.Dense(num_classes, activation='softmax')(x)\n",
        "\n",
        "    model = models.Model(inputs, outputs)\n",
        "    return model\n"
      ],
      "metadata": {
        "id": "TfLoNQIuITkw"
      },
      "execution_count": 10,
      "outputs": []
    },
    {
      "cell_type": "code",
      "source": [
        "from tensorflow.keras import layers\n",
        "model = build_regularized_model(\n",
        "    input_shape=X_train.shape[1:],\n",
        "    num_classes=len(label_encoder.classes_)\n",
        ")\n",
        "\n",
        "model.compile(\n",
        "    optimizer='adam',\n",
        "    loss='sparse_categorical_crossentropy',\n",
        "    metrics=['accuracy']\n",
        ")\n",
        "\n",
        "# 🛑 EarlyStopping to stop overfitting\n",
        "early_stop = tf.keras.callbacks.EarlyStopping(\n",
        "    patience=15,\n",
        "    restore_best_weights=True,\n",
        "    monitor='val_accuracy'\n",
        ")\n",
        "\n",
        "history = model.fit(\n",
        "    X_train, y_train,\n",
        "    validation_data = [X_test,y_test],\n",
        "    epochs=80,\n",
        "    batch_size=32,\n",
        "    callbacks=[early_stop],\n",
        "    verbose=1\n",
        ")"
      ],
      "metadata": {
        "colab": {
          "base_uri": "https://localhost:8080/"
        },
        "id": "VTS0mkPIImll",
        "outputId": "37a6737a-a608-4ba8-ad4b-1ac2efdacb5d"
      },
      "execution_count": 17,
      "outputs": [
        {
          "output_type": "stream",
          "name": "stdout",
          "text": [
            "Epoch 1/80\n",
            "\u001b[1m62/62\u001b[0m \u001b[32m━━━━━━━━━━━━━━━━━━━━\u001b[0m\u001b[37m\u001b[0m \u001b[1m26s\u001b[0m 246ms/step - accuracy: 0.2120 - loss: 2.1935 - val_accuracy: 0.1772 - val_loss: 2.7428\n",
            "Epoch 2/80\n",
            "\u001b[1m62/62\u001b[0m \u001b[32m━━━━━━━━━━━━━━━━━━━━\u001b[0m\u001b[37m\u001b[0m \u001b[1m15s\u001b[0m 236ms/step - accuracy: 0.4025 - loss: 1.7980 - val_accuracy: 0.2668 - val_loss: 2.5997\n",
            "Epoch 3/80\n",
            "\u001b[1m62/62\u001b[0m \u001b[32m━━━━━━━━━━━━━━━━━━━━\u001b[0m\u001b[37m\u001b[0m \u001b[1m20s\u001b[0m 237ms/step - accuracy: 0.4836 - loss: 1.5089 - val_accuracy: 0.3971 - val_loss: 1.9470\n",
            "Epoch 4/80\n",
            "\u001b[1m62/62\u001b[0m \u001b[32m━━━━━━━━━━━━━━━━━━━━\u001b[0m\u001b[37m\u001b[0m \u001b[1m20s\u001b[0m 227ms/step - accuracy: 0.5702 - loss: 1.3372 - val_accuracy: 0.5764 - val_loss: 1.3784\n",
            "Epoch 5/80\n",
            "\u001b[1m62/62\u001b[0m \u001b[32m━━━━━━━━━━━━━━━━━━━━\u001b[0m\u001b[37m\u001b[0m \u001b[1m15s\u001b[0m 238ms/step - accuracy: 0.6049 - loss: 1.2157 - val_accuracy: 0.5153 - val_loss: 1.5093\n",
            "Epoch 6/80\n",
            "\u001b[1m62/62\u001b[0m \u001b[32m━━━━━━━━━━━━━━━━━━━━\u001b[0m\u001b[37m\u001b[0m \u001b[1m20s\u001b[0m 237ms/step - accuracy: 0.6272 - loss: 1.1669 - val_accuracy: 0.5132 - val_loss: 1.5174\n",
            "Epoch 7/80\n",
            "\u001b[1m62/62\u001b[0m \u001b[32m━━━━━━━━━━━━━━━━━━━━\u001b[0m\u001b[37m\u001b[0m \u001b[1m20s\u001b[0m 226ms/step - accuracy: 0.6362 - loss: 1.1334 - val_accuracy: 0.5458 - val_loss: 1.4389\n",
            "Epoch 8/80\n",
            "\u001b[1m62/62\u001b[0m \u001b[32m━━━━━━━━━━━━━━━━━━━━\u001b[0m\u001b[37m\u001b[0m \u001b[1m20s\u001b[0m 228ms/step - accuracy: 0.7010 - loss: 1.0266 - val_accuracy: 0.5601 - val_loss: 1.4362\n",
            "Epoch 9/80\n",
            "\u001b[1m62/62\u001b[0m \u001b[32m━━━━━━━━━━━━━━━━━━━━\u001b[0m\u001b[37m\u001b[0m \u001b[1m21s\u001b[0m 226ms/step - accuracy: 0.6893 - loss: 1.0034 - val_accuracy: 0.6090 - val_loss: 1.2072\n",
            "Epoch 10/80\n",
            "\u001b[1m62/62\u001b[0m \u001b[32m━━━━━━━━━━━━━━━━━━━━\u001b[0m\u001b[37m\u001b[0m \u001b[1m21s\u001b[0m 238ms/step - accuracy: 0.7386 - loss: 0.9081 - val_accuracy: 0.5743 - val_loss: 1.3314\n",
            "Epoch 11/80\n",
            "\u001b[1m62/62\u001b[0m \u001b[32m━━━━━━━━━━━━━━━━━━━━\u001b[0m\u001b[37m\u001b[0m \u001b[1m20s\u001b[0m 228ms/step - accuracy: 0.7241 - loss: 0.9097 - val_accuracy: 0.5927 - val_loss: 1.2675\n",
            "Epoch 12/80\n",
            "\u001b[1m62/62\u001b[0m \u001b[32m━━━━━━━━━━━━━━━━━━━━\u001b[0m\u001b[37m\u001b[0m \u001b[1m14s\u001b[0m 230ms/step - accuracy: 0.7361 - loss: 0.8959 - val_accuracy: 0.6191 - val_loss: 1.2799\n",
            "Epoch 13/80\n",
            "\u001b[1m62/62\u001b[0m \u001b[32m━━━━━━━━━━━━━━━━━━━━\u001b[0m\u001b[37m\u001b[0m \u001b[1m20s\u001b[0m 228ms/step - accuracy: 0.7364 - loss: 0.8534 - val_accuracy: 0.6436 - val_loss: 1.2729\n",
            "Epoch 14/80\n",
            "\u001b[1m62/62\u001b[0m \u001b[32m━━━━━━━━━━━━━━━━━━━━\u001b[0m\u001b[37m\u001b[0m \u001b[1m14s\u001b[0m 227ms/step - accuracy: 0.7708 - loss: 0.8144 - val_accuracy: 0.3788 - val_loss: 2.6149\n",
            "Epoch 15/80\n",
            "\u001b[1m62/62\u001b[0m \u001b[32m━━━━━━━━━━━━━━━━━━━━\u001b[0m\u001b[37m\u001b[0m \u001b[1m16s\u001b[0m 256ms/step - accuracy: 0.7526 - loss: 0.8101 - val_accuracy: 0.5255 - val_loss: 1.9170\n",
            "Epoch 16/80\n",
            "\u001b[1m62/62\u001b[0m \u001b[32m━━━━━━━━━━━━━━━━━━━━\u001b[0m\u001b[37m\u001b[0m \u001b[1m14s\u001b[0m 227ms/step - accuracy: 0.7957 - loss: 0.7313 - val_accuracy: 0.5295 - val_loss: 1.8135\n",
            "Epoch 17/80\n",
            "\u001b[1m62/62\u001b[0m \u001b[32m━━━━━━━━━━━━━━━━━━━━\u001b[0m\u001b[37m\u001b[0m \u001b[1m20s\u001b[0m 227ms/step - accuracy: 0.8111 - loss: 0.6963 - val_accuracy: 0.6253 - val_loss: 1.2777\n",
            "Epoch 18/80\n",
            "\u001b[1m62/62\u001b[0m \u001b[32m━━━━━━━━━━━━━━━━━━━━\u001b[0m\u001b[37m\u001b[0m \u001b[1m21s\u001b[0m 228ms/step - accuracy: 0.8007 - loss: 0.7433 - val_accuracy: 0.5906 - val_loss: 1.3184\n",
            "Epoch 19/80\n",
            "\u001b[1m62/62\u001b[0m \u001b[32m━━━━━━━━━━━━━━━━━━━━\u001b[0m\u001b[37m\u001b[0m \u001b[1m14s\u001b[0m 227ms/step - accuracy: 0.8169 - loss: 0.6964 - val_accuracy: 0.5845 - val_loss: 1.4331\n",
            "Epoch 20/80\n",
            "\u001b[1m62/62\u001b[0m \u001b[32m━━━━━━━━━━━━━━━━━━━━\u001b[0m\u001b[37m\u001b[0m \u001b[1m20s\u001b[0m 227ms/step - accuracy: 0.8340 - loss: 0.6568 - val_accuracy: 0.7291 - val_loss: 0.9331\n",
            "Epoch 21/80\n",
            "\u001b[1m62/62\u001b[0m \u001b[32m━━━━━━━━━━━━━━━━━━━━\u001b[0m\u001b[37m\u001b[0m \u001b[1m21s\u001b[0m 226ms/step - accuracy: 0.7843 - loss: 0.7662 - val_accuracy: 0.6517 - val_loss: 1.2657\n",
            "Epoch 22/80\n",
            "\u001b[1m62/62\u001b[0m \u001b[32m━━━━━━━━━━━━━━━━━━━━\u001b[0m\u001b[37m\u001b[0m \u001b[1m20s\u001b[0m 228ms/step - accuracy: 0.8133 - loss: 0.6726 - val_accuracy: 0.5825 - val_loss: 1.7569\n",
            "Epoch 23/80\n",
            "\u001b[1m62/62\u001b[0m \u001b[32m━━━━━━━━━━━━━━━━━━━━\u001b[0m\u001b[37m\u001b[0m \u001b[1m21s\u001b[0m 229ms/step - accuracy: 0.8411 - loss: 0.6182 - val_accuracy: 0.6741 - val_loss: 1.2377\n",
            "Epoch 24/80\n",
            "\u001b[1m62/62\u001b[0m \u001b[32m━━━━━━━━━━━━━━━━━━━━\u001b[0m\u001b[37m\u001b[0m \u001b[1m21s\u001b[0m 237ms/step - accuracy: 0.8339 - loss: 0.6288 - val_accuracy: 0.7271 - val_loss: 0.9494\n",
            "Epoch 25/80\n",
            "\u001b[1m62/62\u001b[0m \u001b[32m━━━━━━━━━━━━━━━━━━━━\u001b[0m\u001b[37m\u001b[0m \u001b[1m15s\u001b[0m 237ms/step - accuracy: 0.8476 - loss: 0.6044 - val_accuracy: 0.6701 - val_loss: 1.2123\n",
            "Epoch 26/80\n",
            "\u001b[1m62/62\u001b[0m \u001b[32m━━━━━━━━━━━━━━━━━━━━\u001b[0m\u001b[37m\u001b[0m \u001b[1m20s\u001b[0m 228ms/step - accuracy: 0.8689 - loss: 0.5464 - val_accuracy: 0.7536 - val_loss: 0.8422\n",
            "Epoch 27/80\n",
            "\u001b[1m62/62\u001b[0m \u001b[32m━━━━━━━━━━━━━━━━━━━━\u001b[0m\u001b[37m\u001b[0m \u001b[1m14s\u001b[0m 227ms/step - accuracy: 0.8674 - loss: 0.5573 - val_accuracy: 0.6965 - val_loss: 1.0488\n",
            "Epoch 28/80\n",
            "\u001b[1m62/62\u001b[0m \u001b[32m━━━━━━━━━━━━━━━━━━━━\u001b[0m\u001b[37m\u001b[0m \u001b[1m20s\u001b[0m 228ms/step - accuracy: 0.8604 - loss: 0.5559 - val_accuracy: 0.7169 - val_loss: 0.9841\n",
            "Epoch 29/80\n",
            "\u001b[1m62/62\u001b[0m \u001b[32m━━━━━━━━━━━━━━━━━━━━\u001b[0m\u001b[37m\u001b[0m \u001b[1m14s\u001b[0m 227ms/step - accuracy: 0.8691 - loss: 0.5439 - val_accuracy: 0.6884 - val_loss: 1.0931\n",
            "Epoch 30/80\n",
            "\u001b[1m62/62\u001b[0m \u001b[32m━━━━━━━━━━━━━━━━━━━━\u001b[0m\u001b[37m\u001b[0m \u001b[1m21s\u001b[0m 243ms/step - accuracy: 0.8605 - loss: 0.5529 - val_accuracy: 0.7108 - val_loss: 1.0138\n",
            "Epoch 31/80\n",
            "\u001b[1m62/62\u001b[0m \u001b[32m━━━━━━━━━━━━━━━━━━━━\u001b[0m\u001b[37m\u001b[0m \u001b[1m16s\u001b[0m 248ms/step - accuracy: 0.8808 - loss: 0.5341 - val_accuracy: 0.7128 - val_loss: 1.0625\n",
            "Epoch 32/80\n",
            "\u001b[1m62/62\u001b[0m \u001b[32m━━━━━━━━━━━━━━━━━━━━\u001b[0m\u001b[37m\u001b[0m \u001b[1m19s\u001b[0m 228ms/step - accuracy: 0.8681 - loss: 0.5474 - val_accuracy: 0.6232 - val_loss: 1.4378\n",
            "Epoch 33/80\n",
            "\u001b[1m62/62\u001b[0m \u001b[32m━━━━━━━━━━━━━━━━━━━━\u001b[0m\u001b[37m\u001b[0m \u001b[1m21s\u001b[0m 239ms/step - accuracy: 0.8821 - loss: 0.4957 - val_accuracy: 0.6904 - val_loss: 1.1300\n",
            "Epoch 34/80\n",
            "\u001b[1m62/62\u001b[0m \u001b[32m━━━━━━━━━━━━━━━━━━━━\u001b[0m\u001b[37m\u001b[0m \u001b[1m20s\u001b[0m 228ms/step - accuracy: 0.8872 - loss: 0.4968 - val_accuracy: 0.6619 - val_loss: 1.2749\n",
            "Epoch 35/80\n",
            "\u001b[1m62/62\u001b[0m \u001b[32m━━━━━━━━━━━━━━━━━━━━\u001b[0m\u001b[37m\u001b[0m \u001b[1m15s\u001b[0m 239ms/step - accuracy: 0.8892 - loss: 0.4943 - val_accuracy: 0.6517 - val_loss: 1.3089\n",
            "Epoch 36/80\n",
            "\u001b[1m62/62\u001b[0m \u001b[32m━━━━━━━━━━━━━━━━━━━━\u001b[0m\u001b[37m\u001b[0m \u001b[1m15s\u001b[0m 237ms/step - accuracy: 0.8834 - loss: 0.5045 - val_accuracy: 0.6293 - val_loss: 1.3460\n",
            "Epoch 37/80\n",
            "\u001b[1m62/62\u001b[0m \u001b[32m━━━━━━━━━━━━━━━━━━━━\u001b[0m\u001b[37m\u001b[0m \u001b[1m20s\u001b[0m 237ms/step - accuracy: 0.8932 - loss: 0.4755 - val_accuracy: 0.7312 - val_loss: 1.0157\n",
            "Epoch 38/80\n",
            "\u001b[1m62/62\u001b[0m \u001b[32m━━━━━━━━━━━━━━━━━━━━\u001b[0m\u001b[37m\u001b[0m \u001b[1m20s\u001b[0m 226ms/step - accuracy: 0.8871 - loss: 0.5026 - val_accuracy: 0.7739 - val_loss: 0.8333\n",
            "Epoch 39/80\n",
            "\u001b[1m62/62\u001b[0m \u001b[32m━━━━━━━━━━━━━━━━━━━━\u001b[0m\u001b[37m\u001b[0m \u001b[1m21s\u001b[0m 237ms/step - accuracy: 0.9001 - loss: 0.4495 - val_accuracy: 0.7454 - val_loss: 0.9656\n",
            "Epoch 40/80\n",
            "\u001b[1m62/62\u001b[0m \u001b[32m━━━━━━━━━━━━━━━━━━━━\u001b[0m\u001b[37m\u001b[0m \u001b[1m20s\u001b[0m 226ms/step - accuracy: 0.8957 - loss: 0.4507 - val_accuracy: 0.7413 - val_loss: 0.9737\n",
            "Epoch 41/80\n",
            "\u001b[1m62/62\u001b[0m \u001b[32m━━━━━━━━━━━━━━━━━━━━\u001b[0m\u001b[37m\u001b[0m \u001b[1m20s\u001b[0m 228ms/step - accuracy: 0.8972 - loss: 0.4558 - val_accuracy: 0.7067 - val_loss: 1.1072\n",
            "Epoch 42/80\n",
            "\u001b[1m62/62\u001b[0m \u001b[32m━━━━━━━━━━━━━━━━━━━━\u001b[0m\u001b[37m\u001b[0m \u001b[1m15s\u001b[0m 237ms/step - accuracy: 0.9148 - loss: 0.4111 - val_accuracy: 0.7026 - val_loss: 1.1099\n",
            "Epoch 43/80\n",
            "\u001b[1m62/62\u001b[0m \u001b[32m━━━━━━━━━━━━━━━━━━━━\u001b[0m\u001b[37m\u001b[0m \u001b[1m20s\u001b[0m 228ms/step - accuracy: 0.8958 - loss: 0.4443 - val_accuracy: 0.6741 - val_loss: 1.3022\n",
            "Epoch 44/80\n",
            "\u001b[1m62/62\u001b[0m \u001b[32m━━━━━━━━━━━━━━━━━━━━\u001b[0m\u001b[37m\u001b[0m \u001b[1m20s\u001b[0m 228ms/step - accuracy: 0.9103 - loss: 0.4213 - val_accuracy: 0.7169 - val_loss: 1.1495\n",
            "Epoch 45/80\n",
            "\u001b[1m62/62\u001b[0m \u001b[32m━━━━━━━━━━━━━━━━━━━━\u001b[0m\u001b[37m\u001b[0m \u001b[1m21s\u001b[0m 232ms/step - accuracy: 0.9218 - loss: 0.3981 - val_accuracy: 0.7454 - val_loss: 0.9393\n",
            "Epoch 46/80\n",
            "\u001b[1m62/62\u001b[0m \u001b[32m━━━━━━━━━━━━━━━━━━━━\u001b[0m\u001b[37m\u001b[0m \u001b[1m20s\u001b[0m 228ms/step - accuracy: 0.9114 - loss: 0.4030 - val_accuracy: 0.7678 - val_loss: 0.9035\n",
            "Epoch 47/80\n",
            "\u001b[1m62/62\u001b[0m \u001b[32m━━━━━━━━━━━━━━━━━━━━\u001b[0m\u001b[37m\u001b[0m \u001b[1m21s\u001b[0m 238ms/step - accuracy: 0.9209 - loss: 0.3894 - val_accuracy: 0.6762 - val_loss: 1.2886\n",
            "Epoch 48/80\n",
            "\u001b[1m62/62\u001b[0m \u001b[32m━━━━━━━━━━━━━━━━━━━━\u001b[0m\u001b[37m\u001b[0m \u001b[1m20s\u001b[0m 238ms/step - accuracy: 0.9211 - loss: 0.3990 - val_accuracy: 0.7189 - val_loss: 1.0987\n",
            "Epoch 49/80\n",
            "\u001b[1m62/62\u001b[0m \u001b[32m━━━━━━━━━━━━━━━━━━━━\u001b[0m\u001b[37m\u001b[0m \u001b[1m20s\u001b[0m 227ms/step - accuracy: 0.9237 - loss: 0.4002 - val_accuracy: 0.7821 - val_loss: 0.8684\n",
            "Epoch 50/80\n",
            "\u001b[1m62/62\u001b[0m \u001b[32m━━━━━━━━━━━━━━━━━━━━\u001b[0m\u001b[37m\u001b[0m \u001b[1m14s\u001b[0m 227ms/step - accuracy: 0.9069 - loss: 0.4168 - val_accuracy: 0.7536 - val_loss: 0.9958\n",
            "Epoch 51/80\n",
            "\u001b[1m62/62\u001b[0m \u001b[32m━━━━━━━━━━━━━━━━━━━━\u001b[0m\u001b[37m\u001b[0m \u001b[1m20s\u001b[0m 227ms/step - accuracy: 0.9440 - loss: 0.3258 - val_accuracy: 0.6721 - val_loss: 1.3450\n",
            "Epoch 52/80\n",
            "\u001b[1m62/62\u001b[0m \u001b[32m━━━━━━━━━━━━━━━━━━━━\u001b[0m\u001b[37m\u001b[0m \u001b[1m15s\u001b[0m 239ms/step - accuracy: 0.9343 - loss: 0.3783 - val_accuracy: 0.7393 - val_loss: 0.9910\n",
            "Epoch 53/80\n",
            "\u001b[1m62/62\u001b[0m \u001b[32m━━━━━━━━━━━━━━━━━━━━\u001b[0m\u001b[37m\u001b[0m \u001b[1m20s\u001b[0m 238ms/step - accuracy: 0.9168 - loss: 0.4163 - val_accuracy: 0.7576 - val_loss: 0.9069\n",
            "Epoch 54/80\n",
            "\u001b[1m62/62\u001b[0m \u001b[32m━━━━━━━━━━━━━━━━━━━━\u001b[0m\u001b[37m\u001b[0m \u001b[1m20s\u001b[0m 238ms/step - accuracy: 0.9011 - loss: 0.4214 - val_accuracy: 0.7678 - val_loss: 1.0423\n",
            "Epoch 55/80\n",
            "\u001b[1m62/62\u001b[0m \u001b[32m━━━━━━━━━━━━━━━━━━━━\u001b[0m\u001b[37m\u001b[0m \u001b[1m20s\u001b[0m 228ms/step - accuracy: 0.9174 - loss: 0.4007 - val_accuracy: 0.6395 - val_loss: 1.6054\n",
            "Epoch 56/80\n",
            "\u001b[1m62/62\u001b[0m \u001b[32m━━━━━━━━━━━━━━━━━━━━\u001b[0m\u001b[37m\u001b[0m \u001b[1m21s\u001b[0m 238ms/step - accuracy: 0.9404 - loss: 0.3505 - val_accuracy: 0.6578 - val_loss: 1.5367\n",
            "Epoch 57/80\n",
            "\u001b[1m62/62\u001b[0m \u001b[32m━━━━━━━━━━━━━━━━━━━━\u001b[0m\u001b[37m\u001b[0m \u001b[1m20s\u001b[0m 238ms/step - accuracy: 0.9289 - loss: 0.3632 - val_accuracy: 0.7495 - val_loss: 1.1300\n",
            "Epoch 58/80\n",
            "\u001b[1m62/62\u001b[0m \u001b[32m━━━━━━━━━━━━━━━━━━━━\u001b[0m\u001b[37m\u001b[0m \u001b[1m20s\u001b[0m 228ms/step - accuracy: 0.9321 - loss: 0.3594 - val_accuracy: 0.7515 - val_loss: 0.9767\n",
            "Epoch 59/80\n",
            "\u001b[1m62/62\u001b[0m \u001b[32m━━━━━━━━━━━━━━━━━━━━\u001b[0m\u001b[37m\u001b[0m \u001b[1m21s\u001b[0m 238ms/step - accuracy: 0.9453 - loss: 0.3242 - val_accuracy: 0.6660 - val_loss: 1.6036\n",
            "Epoch 60/80\n",
            "\u001b[1m62/62\u001b[0m \u001b[32m━━━━━━━━━━━━━━━━━━━━\u001b[0m\u001b[37m\u001b[0m \u001b[1m16s\u001b[0m 264ms/step - accuracy: 0.9338 - loss: 0.3636 - val_accuracy: 0.7637 - val_loss: 1.0480\n",
            "Epoch 61/80\n",
            "\u001b[1m62/62\u001b[0m \u001b[32m━━━━━━━━━━━━━━━━━━━━\u001b[0m\u001b[37m\u001b[0m \u001b[1m18s\u001b[0m 228ms/step - accuracy: 0.9394 - loss: 0.3304 - val_accuracy: 0.7373 - val_loss: 1.2083\n",
            "Epoch 62/80\n",
            "\u001b[1m62/62\u001b[0m \u001b[32m━━━━━━━━━━━━━━━━━━━━\u001b[0m\u001b[37m\u001b[0m \u001b[1m20s\u001b[0m 227ms/step - accuracy: 0.9545 - loss: 0.3211 - val_accuracy: 0.6415 - val_loss: 1.6180\n",
            "Epoch 63/80\n",
            "\u001b[1m62/62\u001b[0m \u001b[32m━━━━━━━━━━━━━━━━━━━━\u001b[0m\u001b[37m\u001b[0m \u001b[1m21s\u001b[0m 233ms/step - accuracy: 0.9270 - loss: 0.3667 - val_accuracy: 0.7658 - val_loss: 1.1046\n",
            "Epoch 64/80\n",
            "\u001b[1m62/62\u001b[0m \u001b[32m━━━━━━━━━━━━━━━━━━━━\u001b[0m\u001b[37m\u001b[0m \u001b[1m21s\u001b[0m 238ms/step - accuracy: 0.9230 - loss: 0.3784 - val_accuracy: 0.8208 - val_loss: 0.9272\n",
            "Epoch 65/80\n",
            "\u001b[1m62/62\u001b[0m \u001b[32m━━━━━━━━━━━━━━━━━━━━\u001b[0m\u001b[37m\u001b[0m \u001b[1m20s\u001b[0m 237ms/step - accuracy: 0.9401 - loss: 0.3468 - val_accuracy: 0.7128 - val_loss: 1.2410\n",
            "Epoch 66/80\n",
            "\u001b[1m62/62\u001b[0m \u001b[32m━━━━━━━━━━━━━━━━━━━━\u001b[0m\u001b[37m\u001b[0m \u001b[1m20s\u001b[0m 228ms/step - accuracy: 0.9468 - loss: 0.3222 - val_accuracy: 0.6925 - val_loss: 1.5013\n",
            "Epoch 67/80\n",
            "\u001b[1m62/62\u001b[0m \u001b[32m━━━━━━━━━━━━━━━━━━━━\u001b[0m\u001b[37m\u001b[0m \u001b[1m21s\u001b[0m 238ms/step - accuracy: 0.9223 - loss: 0.3726 - val_accuracy: 0.7882 - val_loss: 0.8526\n",
            "Epoch 68/80\n",
            "\u001b[1m62/62\u001b[0m \u001b[32m━━━━━━━━━━━━━━━━━━━━\u001b[0m\u001b[37m\u001b[0m \u001b[1m20s\u001b[0m 227ms/step - accuracy: 0.9360 - loss: 0.3520 - val_accuracy: 0.7658 - val_loss: 1.0293\n",
            "Epoch 69/80\n",
            "\u001b[1m62/62\u001b[0m \u001b[32m━━━━━━━━━━━━━━━━━━━━\u001b[0m\u001b[37m\u001b[0m \u001b[1m20s\u001b[0m 228ms/step - accuracy: 0.9509 - loss: 0.3204 - val_accuracy: 0.7882 - val_loss: 0.9124\n",
            "Epoch 70/80\n",
            "\u001b[1m62/62\u001b[0m \u001b[32m━━━━━━━━━━━━━━━━━━━━\u001b[0m\u001b[37m\u001b[0m \u001b[1m20s\u001b[0m 228ms/step - accuracy: 0.9407 - loss: 0.3224 - val_accuracy: 0.7026 - val_loss: 1.2628\n",
            "Epoch 71/80\n",
            "\u001b[1m62/62\u001b[0m \u001b[32m━━━━━━━━━━━━━━━━━━━━\u001b[0m\u001b[37m\u001b[0m \u001b[1m20s\u001b[0m 227ms/step - accuracy: 0.9377 - loss: 0.3475 - val_accuracy: 0.7678 - val_loss: 1.0543\n",
            "Epoch 72/80\n",
            "\u001b[1m62/62\u001b[0m \u001b[32m━━━━━━━━━━━━━━━━━━━━\u001b[0m\u001b[37m\u001b[0m \u001b[1m15s\u001b[0m 239ms/step - accuracy: 0.9255 - loss: 0.3673 - val_accuracy: 0.6945 - val_loss: 1.4241\n",
            "Epoch 73/80\n",
            "\u001b[1m62/62\u001b[0m \u001b[32m━━━━━━━━━━━━━━━━━━━━\u001b[0m\u001b[37m\u001b[0m \u001b[1m20s\u001b[0m 235ms/step - accuracy: 0.9521 - loss: 0.3087 - val_accuracy: 0.7312 - val_loss: 1.1972\n",
            "Epoch 74/80\n",
            "\u001b[1m62/62\u001b[0m \u001b[32m━━━━━━━━━━━━━━━━━━━━\u001b[0m\u001b[37m\u001b[0m \u001b[1m20s\u001b[0m 228ms/step - accuracy: 0.9399 - loss: 0.3226 - val_accuracy: 0.7291 - val_loss: 1.2560\n",
            "Epoch 75/80\n",
            "\u001b[1m62/62\u001b[0m \u001b[32m━━━━━━━━━━━━━━━━━━━━\u001b[0m\u001b[37m\u001b[0m \u001b[1m21s\u001b[0m 229ms/step - accuracy: 0.9387 - loss: 0.3252 - val_accuracy: 0.7862 - val_loss: 0.9493\n",
            "Epoch 76/80\n",
            "\u001b[1m62/62\u001b[0m \u001b[32m━━━━━━━━━━━━━━━━━━━━\u001b[0m\u001b[37m\u001b[0m \u001b[1m21s\u001b[0m 237ms/step - accuracy: 0.9384 - loss: 0.3311 - val_accuracy: 0.7332 - val_loss: 1.3143\n",
            "Epoch 77/80\n",
            "\u001b[1m62/62\u001b[0m \u001b[32m━━━━━━━━━━━━━━━━━━━━\u001b[0m\u001b[37m\u001b[0m \u001b[1m20s\u001b[0m 228ms/step - accuracy: 0.9304 - loss: 0.3434 - val_accuracy: 0.7658 - val_loss: 1.0521\n",
            "Epoch 78/80\n",
            "\u001b[1m62/62\u001b[0m \u001b[32m━━━━━━━━━━━━━━━━━━━━\u001b[0m\u001b[37m\u001b[0m \u001b[1m21s\u001b[0m 237ms/step - accuracy: 0.9324 - loss: 0.3558 - val_accuracy: 0.5866 - val_loss: 2.0804\n",
            "Epoch 79/80\n",
            "\u001b[1m62/62\u001b[0m \u001b[32m━━━━━━━━━━━━━━━━━━━━\u001b[0m\u001b[37m\u001b[0m \u001b[1m14s\u001b[0m 228ms/step - accuracy: 0.9401 - loss: 0.3482 - val_accuracy: 0.7984 - val_loss: 0.9324\n"
          ]
        }
      ]
    },
    {
      "cell_type": "code",
      "source": [
        "y_pred_proba = model.predict(X_test)\n",
        "y_pred = np.argmax(y_pred_proba, axis=1)"
      ],
      "metadata": {
        "colab": {
          "base_uri": "https://localhost:8080/"
        },
        "id": "DvDtOCy8IuIn",
        "outputId": "99a9235e-8352-4812-8162-d389354e48d7"
      },
      "execution_count": 18,
      "outputs": [
        {
          "output_type": "stream",
          "name": "stdout",
          "text": [
            "\u001b[1m16/16\u001b[0m \u001b[32m━━━━━━━━━━━━━━━━━━━━\u001b[0m\u001b[37m\u001b[0m \u001b[1m3s\u001b[0m 105ms/step\n"
          ]
        }
      ]
    },
    {
      "cell_type": "code",
      "source": [
        "from sklearn.metrics import classification_report, accuracy_score\n",
        "\n",
        "print(classification_report(y_test, y_pred, target_names=label_encoder.classes_))\n",
        "print(f\"✅ Test Accuracy: {accuracy_score(y_test, y_pred):.4f}\")\n"
      ],
      "metadata": {
        "colab": {
          "base_uri": "https://localhost:8080/"
        },
        "id": "vAQVgXkmMZsp",
        "outputId": "c6f47239-4f20-4b83-b14e-8d18c84b0520"
      },
      "execution_count": 19,
      "outputs": [
        {
          "output_type": "stream",
          "name": "stdout",
          "text": [
            "              precision    recall  f1-score   support\n",
            "\n",
            "       angry       1.00      0.79      0.88        75\n",
            "        calm       0.89      0.91      0.90        75\n",
            "     disgust       0.81      0.89      0.85        38\n",
            "     fearful       0.68      0.82      0.74        76\n",
            "       happy       0.83      0.88      0.85        76\n",
            "     neutral       0.85      0.92      0.88        37\n",
            "         sad       0.81      0.59      0.68        75\n",
            "   surprised       0.73      0.90      0.80        39\n",
            "\n",
            "    accuracy                           0.82       491\n",
            "   macro avg       0.83      0.84      0.82       491\n",
            "weighted avg       0.83      0.82      0.82       491\n",
            "\n",
            "✅ Test Accuracy: 0.8208\n"
          ]
        }
      ]
    },
    {
      "cell_type": "code",
      "source": [
        "f1 = f1_score(y_test, y_pred, average='macro')  # You can also try 'weighted'\n",
        "print(f\"✅ Macro F1 Score: {f1:.4f}\")"
      ],
      "metadata": {
        "colab": {
          "base_uri": "https://localhost:8080/"
        },
        "id": "UVcw7pHmMcPr",
        "outputId": "8b8e69b0-985e-4d90-a7cf-d6d38dedfcaf"
      },
      "execution_count": 20,
      "outputs": [
        {
          "output_type": "stream",
          "name": "stdout",
          "text": [
            "✅ Macro F1 Score: 0.8246\n"
          ]
        }
      ]
    },
    {
      "cell_type": "code",
      "source": [
        "from sklearn.metrics import confusion_matrix, ConfusionMatrixDisplay\n",
        "cm = confusion_matrix(y_test, y_pred)\n",
        "\n",
        "# Step 2: Create the display object\n",
        "disp = ConfusionMatrixDisplay(confusion_matrix=cm, display_labels=label_encoder.classes_)\n",
        "\n",
        "# Step 3: Plot\n",
        "fig, ax = plt.subplots(figsize=(8, 6))\n",
        "disp.plot(ax=ax, cmap='Blues', colorbar=True, xticks_rotation=45)\n",
        "plt.title('Confusion Matrix')\n",
        "plt.show()\n"
      ],
      "metadata": {
        "colab": {
          "base_uri": "https://localhost:8080/",
          "height": 606
        },
        "id": "5OH61aRWOJKf",
        "outputId": "22a4c2fa-f207-43c3-e393-09c93751fe0d"
      },
      "execution_count": 22,
      "outputs": [
        {
          "output_type": "display_data",
          "data": {
            "text/plain": [
              "<Figure size 800x600 with 2 Axes>"
            ],
            "image/png": "[encoded data removed]"
          },
          "metadata": {}
        }
      ]
    },
    {
      "cell_type": "code",
      "source": [],
      "metadata": {
        "id": "trkxrF8HO02L"
      },
      "execution_count": null,
      "outputs": []
    }
  ]
}